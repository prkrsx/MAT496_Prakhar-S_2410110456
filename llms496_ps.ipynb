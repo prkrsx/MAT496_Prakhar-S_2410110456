{
 "cells": [
  {
   "cell_type": "markdown",
   "id": "3e8f2588",
   "metadata": {},
   "source": [
    "# LangSmith and Open AI API Keys set with Environment\n",
    "API Keys setup in .env file for tracing via LangSmith"
   ]
  },
  {
   "cell_type": "code",
   "execution_count": 2,
   "id": "f3bc8e44",
   "metadata": {},
   "outputs": [
    {
     "data": {
      "text/plain": [
       "'\\nimport getpass\\nimport os\\n\\ntry:\\n    # load environment variables from .env file (requires `python-dotenv`)\\n    from dotenv import load_dotenv\\n\\n    load_dotenv()\\nexcept ImportError:\\n    pass\\n\\nos.environ[\"LANGSMITH_TRACING\"] = \"true\"\\nif \"LANGSMITH_API_KEY\" not in os.environ:\\n    os.environ[\"LANGSMITH_API_KEY\"] = getpass.getpass(\\n        prompt=\"Enter your LangSmith API key (optional): \"\\n    )\\nif \"LANGSMITH_PROJECT\" not in os.environ:\\n    os.environ[\"LANGSMITH_PROJECT\"] = getpass.getpass(\\n        prompt=\\'Enter your LangSmith Project Name (default = \"default\"): \\'\\n    )\\n    if not os.environ.get(\"LANGSMITH_PROJECT\"):\\n        os.environ[\"LANGSMITH_PROJECT\"] = \"default\"\\n'"
      ]
     },
     "execution_count": 2,
     "metadata": {},
     "output_type": "execute_result"
    }
   ],
   "source": [
    "'''\n",
    "import getpass\n",
    "import os\n",
    "\n",
    "try:\n",
    "    # load environment variables from .env file (requires `python-dotenv`)\n",
    "    from dotenv import load_dotenv\n",
    "\n",
    "    load_dotenv()\n",
    "except ImportError:\n",
    "    pass\n",
    "\n",
    "os.environ[\"LANGSMITH_TRACING\"] = \"true\"\n",
    "if \"LANGSMITH_API_KEY\" not in os.environ:\n",
    "    os.environ[\"LANGSMITH_API_KEY\"] = getpass.getpass(\n",
    "        prompt=\"Enter your LangSmith API key (optional): \"\n",
    "    )\n",
    "if \"LANGSMITH_PROJECT\" not in os.environ:\n",
    "    os.environ[\"LANGSMITH_PROJECT\"] = getpass.getpass(\n",
    "        prompt='Enter your LangSmith Project Name (default = \"default\"): '\n",
    "    )\n",
    "    if not os.environ.get(\"LANGSMITH_PROJECT\"):\n",
    "        os.environ[\"LANGSMITH_PROJECT\"] = \"default\"\n",
    "'''"
   ]
  },
  {
   "cell_type": "markdown",
   "id": "e9ab3d37",
   "metadata": {},
   "source": [
    "# Using Language Models"
   ]
  },
  {
   "cell_type": "code",
   "execution_count": 3,
   "id": "06043923",
   "metadata": {},
   "outputs": [],
   "source": [
    "import getpass\n",
    "import os\n",
    "\n",
    "if not os.environ.get(\"GROQ_API_KEY\"):\n",
    "  os.environ[\"GROQ_API_KEY\"] = getpass.getpass(\"Enter API key for Groq: \")\n",
    "\n",
    "from langchain.chat_models import init_chat_model\n",
    "\n",
    "model = init_chat_model(\"llama3-8b-8192\", model_provider=\"groq\")"
   ]
  },
  {
   "cell_type": "markdown",
   "id": "47d2c9a1",
   "metadata": {},
   "source": [
    "Using the Model by Invoking via Objects"
   ]
  },
  {
   "cell_type": "code",
   "execution_count": 4,
   "id": "f603c980",
   "metadata": {},
   "outputs": [
    {
     "data": {
      "text/plain": [
       "AIMessage(content='Ciao!', additional_kwargs={}, response_metadata={'token_usage': {'completion_tokens': 4, 'prompt_tokens': 24, 'total_tokens': 28, 'completion_time': 0.004024684, 'prompt_time': 0.003444986, 'queue_time': 0.050248214, 'total_time': 0.00746967}, 'model_name': 'llama3-8b-8192', 'system_fingerprint': 'fp_346a0f709e', 'service_tier': 'on_demand', 'finish_reason': 'stop', 'logprobs': None}, id='run--219531b9-4ae7-4cb3-942b-2011ea5f0c88-0', usage_metadata={'input_tokens': 24, 'output_tokens': 4, 'total_tokens': 28})"
      ]
     },
     "execution_count": 4,
     "metadata": {},
     "output_type": "execute_result"
    }
   ],
   "source": [
    "from langchain_core.messages import HumanMessage, SystemMessage\n",
    "\n",
    "messages = [\n",
    "    SystemMessage(\"Translate the following from English into Italian\"),\n",
    "    HumanMessage(\"hi!\"),\n",
    "]\n",
    "\n",
    "model.invoke(messages)"
   ]
  },
  {
   "cell_type": "markdown",
   "id": "f4ab2e01",
   "metadata": {},
   "source": [
    "Invoking through other types of messages such as Open AI Format or String"
   ]
  },
  {
   "cell_type": "code",
   "execution_count": 5,
   "id": "f5681582",
   "metadata": {},
   "outputs": [
    {
     "data": {
      "text/plain": [
       "AIMessage(content=\"Hello! It's nice to meet you. Is there something I can help you with, or would you like to chat?\", additional_kwargs={}, response_metadata={'token_usage': {'completion_tokens': 26, 'prompt_tokens': 11, 'total_tokens': 37, 'completion_time': 0.025229717, 'prompt_time': 0.002713292, 'queue_time': 0.048531088, 'total_time': 0.027943009}, 'model_name': 'llama3-8b-8192', 'system_fingerprint': 'fp_346a0f709e', 'service_tier': 'on_demand', 'finish_reason': 'stop', 'logprobs': None}, id='run--25c87ebc-4cb5-4de7-8b5f-c737652d56de-0', usage_metadata={'input_tokens': 11, 'output_tokens': 26, 'total_tokens': 37})"
      ]
     },
     "execution_count": 5,
     "metadata": {},
     "output_type": "execute_result"
    }
   ],
   "source": [
    "model.invoke([{\"role\": \"user\", \"content\": \"Hello\"}])\n",
    "model.invoke([HumanMessage(\"Hello\")])"
   ]
  },
  {
   "cell_type": "markdown",
   "id": "2ca0d81c",
   "metadata": {},
   "source": [
    "# Streaming"
   ]
  },
  {
   "cell_type": "code",
   "execution_count": 6,
   "id": "e7106736",
   "metadata": {},
   "outputs": [
    {
     "name": "stdout",
     "output_type": "stream",
     "text": [
      "|C|iao|!||"
     ]
    }
   ],
   "source": [
    "for token in model.stream(messages):\n",
    "    print(token.content, end=\"|\")"
   ]
  },
  {
   "cell_type": "markdown",
   "id": "7388851c",
   "metadata": {},
   "source": [
    "# Prompt Templates\n",
    "Let's create a prompt template here. It will take in two user variables:\n",
    "\n",
    "language: The language to translate text into\n",
    "\n",
    "text: The text to translate"
   ]
  },
  {
   "cell_type": "code",
   "execution_count": null,
   "id": "a793f984",
   "metadata": {},
   "outputs": [],
   "source": [
    "from langchain_core.prompts import ChatPromptTemplate\n",
    "\n",
    "system_template = \"Translate the following from English into {language}\"\n",
    "\n",
    "prompt_template = ChatPromptTemplate.from_messages(\n",
    "    [(\"system\", system_template), (\"user\", \"{text}\")]\n",
    ")"
   ]
  },
  {
   "cell_type": "code",
   "execution_count": null,
   "id": "e7983115",
   "metadata": {},
   "outputs": [],
   "source": []
  }
 ],
 "metadata": {
  "kernelspec": {
   "display_name": "base",
   "language": "python",
   "name": "python3"
  },
  "language_info": {
   "codemirror_mode": {
    "name": "ipython",
    "version": 3
   },
   "file_extension": ".py",
   "mimetype": "text/x-python",
   "name": "python",
   "nbconvert_exporter": "python",
   "pygments_lexer": "ipython3",
   "version": "3.13.5"
  }
 },
 "nbformat": 4,
 "nbformat_minor": 5
}
